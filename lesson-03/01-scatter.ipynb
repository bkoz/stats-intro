{
 "cells": [
  {
   "cell_type": "code",
   "execution_count": 14,
   "id": "cb22834f-d4d9-4579-b104-c89460aa33eb",
   "metadata": {},
   "outputs": [
    {
     "data": {
      "image/png": "[encoded data removed]",
      "text/plain": [
       "<Figure size 144x144 with 1 Axes>"
      ]
     },
     "metadata": {
      "needs_background": "light"
     },
     "output_type": "display_data"
    }
   ],
   "source": [
    "import matplotlib.pyplot as plt\n",
    "import numpy as np\n",
    "\n",
    "plt.style.use('_mpl-gallery')\n",
    "\n",
    "# make the data\n",
    "prices = np.array([51000, 63000, 57000, 39000, 48000, 66000])\n",
    "area = np.array([1700, 2100, 1900, 1300, 1600, 2200])\n",
    "\n",
    "# size and color:\n",
    "sizes = np.random.uniform(15, 80, len(area))\n",
    "colors = np.random.uniform(15, 80, len(area))\n",
    "\n",
    "# plot\n",
    "fig, ax = plt.subplots()\n",
    "\n",
    "ax.scatter(area, prices, s=sizes, c=colors, vmin=0, vmax=100)\n",
    "\n",
    "ax.set(xlim=(0, 3000), xticks=np.arange(0, 3000, 500),\n",
    "       ylim=(0, 100000), yticks=np.arange(0, 100000, 50000))\n",
    "\n",
    "plt.show()"
   ]
  },
  {
   "cell_type": "code",
   "execution_count": null,
   "id": "9d30899d-4bfd-49e5-ab80-68aceef3c538",
   "metadata": {},
   "outputs": [],
   "source": []
  }
 ],
 "metadata": {
  "kernelspec": {
   "display_name": "Python 3 (ipykernel)",
   "language": "python",
   "name": "python3"
  },
  "language_info": {
   "codemirror_mode": {
    "name": "ipython",
    "version": 3
   },
   "file_extension": ".py",
   "mimetype": "text/x-python",
   "name": "python",
   "nbconvert_exporter": "python",
   "pygments_lexer": "ipython3",
   "version": "3.8.9"
  }
 },
 "nbformat": 4,
 "nbformat_minor": 5
}
